{
  "cells": [
    {
      "cell_type": "code",
      "execution_count": null,
      "metadata": {
        "collapsed": false
      },
      "outputs": [],
      "source": [
        "%matplotlib inline"
      ]
    },
    {
      "cell_type": "markdown",
      "metadata": {},
      "source": [
        "\n# Ordinary Kriging\n\nWith the help of a variogram that describes spatial properties of \na sample, the sample can be interpolated. \n"
      ]
    },
    {
      "cell_type": "code",
      "execution_count": null,
      "metadata": {
        "collapsed": false
      },
      "outputs": [],
      "source": [
        "from time import time\nimport plotly\nimport hydrobox\nfrom hydrobox.data import pancake\nfrom hydrobox.plotting import plotting_backend\nplotting_backend('plotly')"
      ]
    },
    {
      "cell_type": "markdown",
      "metadata": {},
      "source": [
        "Load sample data from the data sub-module\n\n"
      ]
    },
    {
      "cell_type": "code",
      "execution_count": null,
      "metadata": {
        "collapsed": false
      },
      "outputs": [],
      "source": [
        "df = pancake()"
      ]
    },
    {
      "cell_type": "markdown",
      "metadata": {},
      "source": [
        "Estimate a exponential variogram again. More details are given in the \n`sphx_glr_auto_examples_geostat_plot_variogram.py` example.\n\n"
      ]
    },
    {
      "cell_type": "code",
      "execution_count": null,
      "metadata": {
        "collapsed": false
      },
      "outputs": [],
      "source": [
        "vario = hydrobox.geostat.variogram(\n    coordinates=df[['x', 'y']].values,\n    values=df.z.values,\n    model='exponential',\n    bin_func='kmeans',\n    n_lags=25,\n    return_type='object'\n)"
      ]
    },
    {
      "cell_type": "markdown",
      "metadata": {},
      "source": [
        "Run ordinary kriging on a 100x100 grid. In this run, the result is \ndirectly plotted. Other return types are ``'grid'``, to return the \nresulting interpolated grid and kriging error grid, or ``'object'``\nto return the :class:`Krige <gstools.Krige>` class. This class \nis already parameterized, but the interpolation was not yet performed.\nThis is most helpful if other grid should be constructed.\n\n"
      ]
    },
    {
      "cell_type": "code",
      "execution_count": null,
      "metadata": {
        "collapsed": false
      },
      "outputs": [],
      "source": [
        "t1 = time()\nfig = hydrobox.geostat.ordinary_kriging(\n    variogram=vario,\n    grid_resolution=100,\n    exact=True,\n    cond_err='nugget',\n    return_type='plot'\n)\nt2 = time()\n\nprint('Took: %2f sec' % (t2 - t1))\n\n# show the plot\nplotly.io.show(fig)"
      ]
    }
  ],
  "metadata": {
    "kernelspec": {
      "display_name": "Python 3",
      "language": "python",
      "name": "python3"
    },
    "language_info": {
      "codemirror_mode": {
        "name": "ipython",
        "version": 3
      },
      "file_extension": ".py",
      "mimetype": "text/x-python",
      "name": "python",
      "nbconvert_exporter": "python",
      "pygments_lexer": "ipython3",
      "version": "3.8.5"
    }
  },
  "nbformat": 4,
  "nbformat_minor": 0
}