{
  "cells": [
    {
      "cell_type": "code",
      "execution_count": null,
      "metadata": {
        "collapsed": false
      },
      "outputs": [],
      "source": [
        "%matplotlib inline"
      ]
    },
    {
      "cell_type": "markdown",
      "metadata": {},
      "source": [
        "\n# Estimate a Variogram\n\nUse the geostatistics toolbox to estimate a variogram and use one of the many\nplots. These plots help to understand the spatial properties of a variogram,\nand finally, the :class:`Variogram <skgstat.Variogram>` object itself can be\nreturned and used in one of the Kriging routines.\n"
      ]
    },
    {
      "cell_type": "code",
      "execution_count": null,
      "metadata": {
        "collapsed": false
      },
      "outputs": [],
      "source": [
        "from pprint import pprint\nimport plotly\nimport hydrobox\nfrom hydrobox.data import pancake\nfrom hydrobox.plotting import plotting_backend\nplotting_backend('plotly')"
      ]
    },
    {
      "cell_type": "markdown",
      "metadata": {},
      "source": [
        "Load sample data from the data sub-module\n\n"
      ]
    },
    {
      "cell_type": "code",
      "execution_count": null,
      "metadata": {
        "collapsed": false
      },
      "outputs": [],
      "source": [
        "df = pancake()"
      ]
    },
    {
      "cell_type": "markdown",
      "metadata": {},
      "source": [
        "Estimate a variogram using a exponential model and 25 distance lags\nthat are derived from a KMeans cluster algorithm\nHere, we use the describe output option to get a dictionary of \nall variogram parameters\n\n"
      ]
    },
    {
      "cell_type": "code",
      "execution_count": null,
      "metadata": {
        "collapsed": false
      },
      "outputs": [],
      "source": [
        "vario = hydrobox.geostat.variogram(\n    coordinates=df[['x', 'y']].values,\n    values=df.z.values,\n    model='exponential',\n    bin_func='kmeans',\n    n_lags=25,\n    return_type='describe'\n)\n# print\npprint(vario)"
      ]
    },
    {
      "cell_type": "markdown",
      "metadata": {},
      "source": [
        "There are various return types, one of them is the plot.\nThis is the main plotting tool for variogram instances\n\n"
      ]
    },
    {
      "cell_type": "code",
      "execution_count": null,
      "metadata": {
        "collapsed": false
      },
      "outputs": [],
      "source": [
        "fig = hydrobox.geostat.variogram(\n    coordinates=df[['x', 'y']].values,\n    values=df.z.values,\n    model='exponential',\n    bin_func='kmeans',\n    n_lags=25,\n    return_type='plot'\n)\n\n# show the figure\nplotly.io.show(fig)"
      ]
    },
    {
      "cell_type": "markdown",
      "metadata": {},
      "source": [
        "Alternatively you can return the :class:`Variogram <skgstat.Variogram>`\nobject itself and use all the different settings and methods directly.\n\n"
      ]
    },
    {
      "cell_type": "code",
      "execution_count": null,
      "metadata": {
        "collapsed": false
      },
      "outputs": [],
      "source": [
        "v = hydrobox.geostat.variogram(\n    coordinates=df[['x', 'y']].values,\n    values=df.z.values,\n    model='exponential',\n    bin_func='kmeans',\n    n_lags=25,\n    return_type='object'\n)\n\npprint(v)"
      ]
    },
    {
      "cell_type": "markdown",
      "metadata": {},
      "source": [
        "The :class:`Variogram <skgstat.Variogram>` has a plotting method for\nall point pairs at their separating distances. It is available as a \nreturn type, but can also be called directly:\n\n"
      ]
    },
    {
      "cell_type": "code",
      "execution_count": null,
      "metadata": {
        "collapsed": false
      },
      "outputs": [],
      "source": [
        "fig = v.distance_difference_plot() \n\nplotly.io.show(fig)"
      ]
    },
    {
      "cell_type": "markdown",
      "metadata": {},
      "source": [
        "The variogram instance has a lot of quality measures to judge the goodness\nof fit for the theoretical model. They are implemented as properties and can\nbe used like attribtues, while being always up to date if the variogram is mutated.\nAnother helpful method is :func:`cross_validate <skgstat.Variogram.cross_validate>`.\nThis will run a leave-one-out cross validation by interpolating the missing point for \nall points. This is especially useful in cases, where a theoretical model fits well,\nbut the spatial properties are not well captured. \n\n"
      ]
    },
    {
      "cell_type": "code",
      "execution_count": null,
      "metadata": {
        "collapsed": false
      },
      "outputs": [],
      "source": [
        "# calculate the rmse of the model\nprint(f\"{v.model.__name__} RMSE:  {v.rmse}\")\n\n# get the cross-validation time\nfrom time import time\nt1 = time()\nrmse = v.cross_validate()\nt2 = time()\nprint('Cross-validated RMSE: %.2f  (took: %2fs)' % (rmse, t2 - t1))"
      ]
    }
  ],
  "metadata": {
    "kernelspec": {
      "display_name": "Python 3",
      "language": "python",
      "name": "python3"
    },
    "language_info": {
      "codemirror_mode": {
        "name": "ipython",
        "version": 3
      },
      "file_extension": ".py",
      "mimetype": "text/x-python",
      "name": "python",
      "nbconvert_exporter": "python",
      "pygments_lexer": "ipython3",
      "version": "3.8.5"
    }
  },
  "nbformat": 4,
  "nbformat_minor": 0
}