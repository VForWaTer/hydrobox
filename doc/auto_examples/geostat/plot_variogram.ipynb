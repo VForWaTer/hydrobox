{
  "cells": [
    {
      "cell_type": "code",
      "execution_count": null,
      "metadata": {
        "collapsed": false
      },
      "outputs": [],
      "source": [
        "%matplotlib inline"
      ]
    },
    {
      "cell_type": "markdown",
      "metadata": {},
      "source": [
        "\n# Estimate a Variogram\n\nUse the geostatistics toolbox to estimate a variogram and use one of the many\nplots.\n"
      ]
    },
    {
      "cell_type": "code",
      "execution_count": null,
      "metadata": {
        "collapsed": false
      },
      "outputs": [],
      "source": [
        "from pprint import pprint\nimport plotly\nimport hydrobox\nfrom hydrobox.data import pancake\nfrom hydrobox.plotting import plotting_backend\nplotting_backend('plotly')"
      ]
    },
    {
      "cell_type": "markdown",
      "metadata": {},
      "source": [
        "Load sample data from the data sub-module\n\n"
      ]
    },
    {
      "cell_type": "code",
      "execution_count": null,
      "metadata": {
        "collapsed": false
      },
      "outputs": [],
      "source": [
        "df = pancake()"
      ]
    },
    {
      "cell_type": "markdown",
      "metadata": {},
      "source": [
        "Estimate a variogram using a _exponential_ model and 25 distance lags\nthat are derived from a KMeans cluster algorithm\nHere, we use the _describe_ output option to get a dictionary of \nall variogram parameters\n\n"
      ]
    },
    {
      "cell_type": "code",
      "execution_count": null,
      "metadata": {
        "collapsed": false
      },
      "outputs": [],
      "source": [
        "vario = hydrobox.geostat.variogram(\n    coordinates=df[['x', 'y']].values,\n    values=df.z.values,\n    model='exponential',\n    bin_func='kmeans',\n    n_lags=25,\n    return_type='describe'\n)\n# print\npprint(vario)"
      ]
    },
    {
      "cell_type": "markdown",
      "metadata": {},
      "source": [
        "Create a plot of the variogram\n\n"
      ]
    },
    {
      "cell_type": "code",
      "execution_count": null,
      "metadata": {
        "collapsed": false
      },
      "outputs": [],
      "source": [
        "fig = hydrobox.geostat.variogram(\n    coordinates=df[['x', 'y']].values,\n    values=df.z.values,\n    model='exponential',\n    bin_func='kmeans',\n    n_lags=25,\n    return_type='plot'\n)\n\n# show the figure\nplotly.io.show(fig)"
      ]
    }
  ],
  "metadata": {
    "kernelspec": {
      "display_name": "Python 3",
      "language": "python",
      "name": "python3"
    },
    "language_info": {
      "codemirror_mode": {
        "name": "ipython",
        "version": 3
      },
      "file_extension": ".py",
      "mimetype": "text/x-python",
      "name": "python",
      "nbconvert_exporter": "python",
      "pygments_lexer": "ipython3",
      "version": "3.8.5"
    }
  },
  "nbformat": 4,
  "nbformat_minor": 0
}